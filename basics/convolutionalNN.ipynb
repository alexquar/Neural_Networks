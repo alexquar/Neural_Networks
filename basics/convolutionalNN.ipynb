{
  "nbformat": 4,
  "nbformat_minor": 0,
  "metadata": {
    "colab": {
      "provenance": [],
      "authorship_tag": "ABX9TyPKsK03DI+DrytHd6wq12T+",
      "include_colab_link": true
    },
    "kernelspec": {
      "name": "python3",
      "display_name": "Python 3"
    },
    "language_info": {
      "name": "python"
    }
  },
  "cells": [
    {
      "cell_type": "markdown",
      "metadata": {
        "id": "view-in-github",
        "colab_type": "text"
      },
      "source": [
        "<a href=\"https://colab.research.google.com/github/alexquar/Pytorch-Learning/blob/main/convolutionalNN.ipynb\" target=\"_parent\"><img src=\"https://colab.research.google.com/assets/colab-badge.svg\" alt=\"Open In Colab\"/></a>"
      ]
    },
    {
      "cell_type": "markdown",
      "source": [
        "# Convolutional NN\n",
        "\n",
        "\n",
        "\n",
        "*   good at classifying images\n",
        "*   mnist, data set of handwritten images of numbers\n",
        "* perform feature extraction through map layers that finished with a flatten layer that is like our input layer for the previous simple NN that we can feed into our neurons and get an output from\n",
        "* we have images of black numbers on white numbers, we take white to be zero and black/gray to be different doubles up to and including 1\n",
        "* colors would usually go up 255 and are more complex because they're basically 3d tensors, they have height, width and color where color is also 3 channels: RGB\n",
        "\n",
        "* CNN are locally connected instead of gloablly to make computer time less (connected to a couple neurons instead of ~all\n",
        "* since there can be so much data this is more efficinet\n",
        "\n",
        "\n",
        "\n"
      ],
      "metadata": {
        "id": "GHw9ppOxlFrx"
      }
    },
    {
      "cell_type": "markdown",
      "source": [
        "#Convolution\n",
        "\n",
        "\n",
        "*   take image passages as a matrix and multiply each entry with a kernal/filter matrix\n",
        "*   we can then sum up all the values and get a single value to represent tthat section\n",
        "* we can do this for the entire image and get something new (similar process for bluring)\n",
        "* the kernal will be altered by the CNN as it learns to get more accurte results\n",
        "\n",
        "# Pooling\n",
        "* down/subsampling after convolution to reduce inputers\n",
        "* max (take biggest of group, lose some info) or average (average all things in group) are common\n",
        "* can easily go convolution, pooling, convolution, pooling and so on or do whatever system works best for you\n",
        "\n"
      ],
      "metadata": {
        "id": "8Cfff_e5nWno"
      }
    },
    {
      "cell_type": "code",
      "source": [
        "#inports\n",
        "import torch as pt\n",
        "import torch.nn as nn\n",
        "import torch.nn.functional as F\n",
        "\n",
        "#image imports\n",
        "from torchvision import datasets, transforms\n",
        "from torchvision.utils import make_grid\n",
        "\n",
        "#pt data loader\n",
        "from torch.utils.data import DataLoader\n",
        "\n",
        "import pandas as pd\n",
        "import numpy as np\n",
        "from sklearn.metrics import confusion_matrix\n",
        "import matplotlib.pyplot as plt\n",
        "%matplotlib inline"
      ],
      "metadata": {
        "id": "L2MSo71xlvBg"
      },
      "execution_count": 1,
      "outputs": []
    },
    {
      "cell_type": "code",
      "source": [
        "#convert images into 4 dimension tensor height, width, #images, color\n",
        "transform = transforms.ToTensor()\n",
        "\n",
        "#dataset is already from torch vision datasets and save it to data\n",
        "train_data = datasets.MNIST(root='data', train=True, download=True, transform=transform)\n",
        "test_data = datasets.MNIST(root='data', train=False, download=True, transform=transform)\n"
      ],
      "metadata": {
        "id": "hpXE1TD1sdty",
        "colab": {
          "base_uri": "https://localhost:8080/"
        },
        "outputId": "c5b66c1a-d4a2-40bb-8187-8cb62b9966e8"
      },
      "execution_count": 2,
      "outputs": [
        {
          "output_type": "stream",
          "name": "stdout",
          "text": [
            "Downloading http://yann.lecun.com/exdb/mnist/train-images-idx3-ubyte.gz\n",
            "Failed to download (trying next):\n",
            "HTTP Error 403: Forbidden\n",
            "\n",
            "Downloading https://ossci-datasets.s3.amazonaws.com/mnist/train-images-idx3-ubyte.gz\n",
            "Downloading https://ossci-datasets.s3.amazonaws.com/mnist/train-images-idx3-ubyte.gz to data/MNIST/raw/train-images-idx3-ubyte.gz\n"
          ]
        },
        {
          "output_type": "stream",
          "name": "stderr",
          "text": [
            "100%|██████████| 9912422/9912422 [00:02<00:00, 3985689.08it/s]\n"
          ]
        },
        {
          "output_type": "stream",
          "name": "stdout",
          "text": [
            "Extracting data/MNIST/raw/train-images-idx3-ubyte.gz to data/MNIST/raw\n",
            "\n",
            "Downloading http://yann.lecun.com/exdb/mnist/train-labels-idx1-ubyte.gz\n",
            "Failed to download (trying next):\n",
            "HTTP Error 403: Forbidden\n",
            "\n",
            "Downloading https://ossci-datasets.s3.amazonaws.com/mnist/train-labels-idx1-ubyte.gz\n",
            "Downloading https://ossci-datasets.s3.amazonaws.com/mnist/train-labels-idx1-ubyte.gz to data/MNIST/raw/train-labels-idx1-ubyte.gz\n"
          ]
        },
        {
          "output_type": "stream",
          "name": "stderr",
          "text": [
            "100%|██████████| 28881/28881 [00:00<00:00, 485946.19it/s]\n"
          ]
        },
        {
          "output_type": "stream",
          "name": "stdout",
          "text": [
            "Extracting data/MNIST/raw/train-labels-idx1-ubyte.gz to data/MNIST/raw\n",
            "\n",
            "Downloading http://yann.lecun.com/exdb/mnist/t10k-images-idx3-ubyte.gz\n",
            "Failed to download (trying next):\n",
            "HTTP Error 403: Forbidden\n",
            "\n",
            "Downloading https://ossci-datasets.s3.amazonaws.com/mnist/t10k-images-idx3-ubyte.gz\n",
            "Downloading https://ossci-datasets.s3.amazonaws.com/mnist/t10k-images-idx3-ubyte.gz to data/MNIST/raw/t10k-images-idx3-ubyte.gz\n"
          ]
        },
        {
          "output_type": "stream",
          "name": "stderr",
          "text": [
            "100%|██████████| 1648877/1648877 [00:00<00:00, 4383702.59it/s]\n"
          ]
        },
        {
          "output_type": "stream",
          "name": "stdout",
          "text": [
            "Extracting data/MNIST/raw/t10k-images-idx3-ubyte.gz to data/MNIST/raw\n",
            "\n",
            "Downloading http://yann.lecun.com/exdb/mnist/t10k-labels-idx1-ubyte.gz\n",
            "Failed to download (trying next):\n",
            "HTTP Error 403: Forbidden\n",
            "\n",
            "Downloading https://ossci-datasets.s3.amazonaws.com/mnist/t10k-labels-idx1-ubyte.gz\n",
            "Downloading https://ossci-datasets.s3.amazonaws.com/mnist/t10k-labels-idx1-ubyte.gz to data/MNIST/raw/t10k-labels-idx1-ubyte.gz\n"
          ]
        },
        {
          "output_type": "stream",
          "name": "stderr",
          "text": [
            "100%|██████████| 4542/4542 [00:00<00:00, 4972730.04it/s]\n"
          ]
        },
        {
          "output_type": "stream",
          "name": "stdout",
          "text": [
            "Extracting data/MNIST/raw/t10k-labels-idx1-ubyte.gz to data/MNIST/raw\n",
            "\n"
          ]
        }
      ]
    },
    {
      "cell_type": "code",
      "source": [
        "#load data\n",
        "train_loader  = DataLoader(train_data, batch_size=10, shuffle=True)\n",
        "test_loader   = DataLoader(test_data, batch_size=10, shuffle=False)"
      ],
      "metadata": {
        "id": "6LGPkN_2o9Pq"
      },
      "execution_count": 3,
      "outputs": []
    },
    {
      "cell_type": "markdown",
      "source": [
        "# CNN Description\n",
        "\n",
        "\n",
        "* 2 convolutional layers\n",
        "*   List item\n",
        "\n"
      ],
      "metadata": {
        "id": "u5MELaNTgW4f"
      }
    },
    {
      "cell_type": "code",
      "source": [
        "\n",
        "#convolutional layers\n",
        "#inputs, outputs, size of slices, step after each slice\n",
        "conv1 = nn.Conv2d(1,6,3,1)\n",
        "conv2 = nn.Conv2d(6,16,3,1)\n",
        "\n",
        "for i, (X_train, y_train) in enumerate(train_data):\n",
        "  break\n",
        "\n",
        "print(X_train.shape)\n",
        "\n",
        "#put our training in correct format\n",
        "x = X_train.view(1,1,28,28)\n",
        "x = F.relu(conv1(x)) #rectified linear unit for activation function, pass in our first convolution\n",
        "\n",
        "#has 1 image, 6 filters, 26x26 image which has dropped outer pixels because there is no real info\n"
      ],
      "metadata": {
        "colab": {
          "base_uri": "https://localhost:8080/"
        },
        "id": "UEEAaBo3fihd",
        "outputId": "c9c60471-6cb2-42d3-f005-518d9cc4276b"
      },
      "execution_count": 4,
      "outputs": [
        {
          "output_type": "stream",
          "name": "stdout",
          "text": [
            "torch.Size([1, 28, 28])\n"
          ]
        }
      ]
    },
    {
      "cell_type": "code",
      "source": [
        "#pass through pooling layer\n",
        "x = F.max_pool2d(x,2,2) #kernal of 2, stride 2\n",
        "\n",
        "#13x13 expected since we take a matrix of 2x2 and get that down to one and since 26/2=13 we end up with a 13x13 matrix"
      ],
      "metadata": {
        "id": "SVyTqzn-vf8d"
      },
      "execution_count": 5,
      "outputs": []
    },
    {
      "cell_type": "code",
      "source": [
        "#convolution 2\n",
        "x=F.relu(conv2(x))\n"
      ],
      "metadata": {
        "id": "WbX7NQf0wdod"
      },
      "execution_count": 6,
      "outputs": []
    },
    {
      "cell_type": "code",
      "source": [
        "x=F.max_pool2d(x,2,2) #pool #2"
      ],
      "metadata": {
        "id": "p582rhHcwwCE"
      },
      "execution_count": 7,
      "outputs": []
    },
    {
      "cell_type": "markdown",
      "source": [
        "## Building our CNN\n",
        "\n",
        "\n",
        "*   now we know how our model works we can build our model\n",
        "* after this we canm do some training and actually test\n",
        "\n",
        "\n"
      ],
      "metadata": {
        "id": "Cf5QsBJBHPUP"
      }
    },
    {
      "cell_type": "code",
      "source": [
        "#build model\n",
        "\n",
        "class cnn(nn.Module):\n",
        "\n",
        "  #constructor\n",
        "  def __init__(self):\n",
        "    super().__init__()\n",
        "    #convolutions\n",
        "    self.conv1 = nn.Conv2d(1,6,3,1)\n",
        "    self.conv2 = nn.Conv2d(6,16,3,1)\n",
        "    #layers\n",
        "    self.fc1 = nn.Linear(5*5*16,120)\n",
        "    self.fc2 = nn.Linear(120,84)\n",
        "    self.fc3 = nn.Linear(84,10)\n",
        "  def forward(self,x):\n",
        "    x = F.relu(conv1(x)) #rectified linear unit for activation function, pass in our first convolution\n",
        "    x = F.max_pool2d(x,2,2) #kernal of 2, stride 2\n",
        "    x=F.relu(conv2(x))\n",
        "    x=F.max_pool2d(x,2,2) #pool #2\n",
        "\n",
        "    #flatten out, -1 to vary batch size\n",
        "    x = x.view(-1,16*5*5)\n",
        "\n",
        "#relu through layers\n",
        "    x = F.relu(self.fc1(x))\n",
        "    x = F.relu(self.fc2(x))\n",
        "    x = self.fc3(x)\n",
        "    return F.log_softmax(x, dim=1)"
      ],
      "metadata": {
        "id": "5EK3-r99CBjV"
      },
      "execution_count": 8,
      "outputs": []
    },
    {
      "cell_type": "code",
      "source": [
        "#instance of model and seed\n",
        "model = cnn()\n",
        "pt.manual_seed(69)\n",
        "\n",
        "#loss function and optimizer\n",
        "criterion = nn.CrossEntropyLoss()\n",
        "optimizer = pt.optim.Adam(model.parameters(), lr=0.001)\n"
      ],
      "metadata": {
        "id": "MmKJFwS0D1at"
      },
      "execution_count": 9,
      "outputs": []
    },
    {
      "cell_type": "code",
      "source": [
        "#train and test model\n",
        "import time\n",
        "start_time = time.time()\n",
        "\n",
        "\n",
        "#create variables for tracking\n",
        "iterations = 10\n",
        "train_losses = []\n",
        "test_losses = []\n",
        "train_correct = []\n",
        "test_correct = []\n",
        "\n",
        "for i in range(iterations):\n",
        "  train_correct_count = 0\n",
        "  for b, (X_train, Y_train) in enumerate(train_loader):\n",
        "      b+=1\n",
        "      Y_pred = model(X_train) #make predictions based on training set\n",
        "      loss = criterion(Y_pred, Y_train) #how off are we\n",
        "      predicted = pt.max(Y_pred.data,1)[1] #add up correct preds\n",
        "      batch_correct = (predicted == Y_train).sum() #how many we got right\n",
        "      train_correct_count += batch_correct #add to training correct answers\n",
        "\n",
        "      #update params\n",
        "      optimizer.zero_grad()\n",
        "      loss.backward()\n",
        "      optimizer.step()\n",
        "\n",
        "      #print results\n",
        "      if b%600 == 0:\n",
        "        print(f'epoch: {i} batch: {b} loss: {loss.item()}')\n",
        "\n",
        "  #append to lists of stuff\n",
        "  train_losses.append(loss)\n",
        "  train_correct.append(train_correct_count)\n",
        "\n",
        "current_time = time.time()\n",
        "total = (current_time - start_time)/60\n",
        "print(total)"
      ],
      "metadata": {
        "colab": {
          "base_uri": "https://localhost:8080/"
        },
        "id": "atvU3Nd0jshq",
        "outputId": "146d2b2b-8d94-4683-f8be-341257b16c39"
      },
      "execution_count": 11,
      "outputs": [
        {
          "output_type": "stream",
          "name": "stdout",
          "text": [
            "epoch: 0 batch: 600 loss: 0.12097126245498657\n",
            "epoch: 0 batch: 1200 loss: 0.23136253654956818\n",
            "epoch: 0 batch: 1800 loss: 0.11836560815572739\n",
            "epoch: 0 batch: 2400 loss: 0.017648790031671524\n",
            "epoch: 0 batch: 3000 loss: 0.13739079236984253\n",
            "epoch: 0 batch: 3600 loss: 0.04319649189710617\n",
            "epoch: 0 batch: 4200 loss: 0.12659785151481628\n",
            "epoch: 0 batch: 4800 loss: 0.5736958384513855\n",
            "epoch: 0 batch: 5400 loss: 0.33827659487724304\n",
            "epoch: 0 batch: 6000 loss: 0.2703401744365692\n",
            "epoch: 1 batch: 600 loss: 0.010266704484820366\n",
            "epoch: 1 batch: 1200 loss: 0.0013870114926248789\n",
            "epoch: 1 batch: 1800 loss: 0.012117983773350716\n",
            "epoch: 1 batch: 2400 loss: 0.04055837541818619\n",
            "epoch: 1 batch: 3000 loss: 0.0019079362973570824\n",
            "epoch: 1 batch: 3600 loss: 0.0006435824907384813\n",
            "epoch: 1 batch: 4200 loss: 0.04300552234053612\n",
            "epoch: 1 batch: 4800 loss: 0.022211894392967224\n",
            "epoch: 1 batch: 5400 loss: 0.05139975622296333\n",
            "epoch: 1 batch: 6000 loss: 0.01739334501326084\n",
            "epoch: 2 batch: 600 loss: 0.7039722204208374\n",
            "epoch: 2 batch: 1200 loss: 0.005430900491774082\n",
            "epoch: 2 batch: 1800 loss: 0.015316404402256012\n",
            "epoch: 2 batch: 2400 loss: 0.03912615403532982\n",
            "epoch: 2 batch: 3000 loss: 0.019467081874608994\n",
            "epoch: 2 batch: 3600 loss: 0.0030263997614383698\n",
            "epoch: 2 batch: 4200 loss: 0.013981478288769722\n",
            "epoch: 2 batch: 4800 loss: 0.02754177153110504\n",
            "epoch: 2 batch: 5400 loss: 0.08957089483737946\n",
            "epoch: 2 batch: 6000 loss: 0.013301685452461243\n",
            "epoch: 3 batch: 600 loss: 0.00641540577635169\n",
            "epoch: 3 batch: 1200 loss: 0.020765559747815132\n",
            "epoch: 3 batch: 1800 loss: 0.0027527296915650368\n",
            "epoch: 3 batch: 2400 loss: 0.0050288476049900055\n",
            "epoch: 3 batch: 3000 loss: 0.7634212970733643\n",
            "epoch: 3 batch: 3600 loss: 0.0414382703602314\n",
            "epoch: 3 batch: 4200 loss: 0.07690884172916412\n",
            "epoch: 3 batch: 4800 loss: 0.01986948400735855\n",
            "epoch: 3 batch: 5400 loss: 0.04302677512168884\n",
            "epoch: 3 batch: 6000 loss: 0.024190988391637802\n",
            "epoch: 4 batch: 600 loss: 0.041436683386564255\n",
            "epoch: 4 batch: 1200 loss: 0.09318733960390091\n",
            "epoch: 4 batch: 1800 loss: 0.0020640818402171135\n",
            "epoch: 4 batch: 2400 loss: 0.04012133181095123\n",
            "epoch: 4 batch: 3000 loss: 0.00010948131966870278\n",
            "epoch: 4 batch: 3600 loss: 0.022166669368743896\n",
            "epoch: 4 batch: 4200 loss: 0.1266973316669464\n",
            "epoch: 4 batch: 4800 loss: 0.0011241808533668518\n",
            "epoch: 4 batch: 5400 loss: 0.04766549915075302\n",
            "epoch: 4 batch: 6000 loss: 0.07211948931217194\n",
            "epoch: 5 batch: 600 loss: 0.002950676018372178\n",
            "epoch: 5 batch: 1200 loss: 0.001241436111740768\n",
            "epoch: 5 batch: 1800 loss: 0.004039376974105835\n",
            "epoch: 5 batch: 2400 loss: 0.03571156784892082\n",
            "epoch: 5 batch: 3000 loss: 0.07947076857089996\n",
            "epoch: 5 batch: 3600 loss: 0.00610379409044981\n",
            "epoch: 5 batch: 4200 loss: 0.02585776150226593\n",
            "epoch: 5 batch: 4800 loss: 0.01631445437669754\n",
            "epoch: 5 batch: 5400 loss: 0.0003745651920326054\n",
            "epoch: 5 batch: 6000 loss: 0.15662680566310883\n",
            "epoch: 6 batch: 600 loss: 0.42674383521080017\n",
            "epoch: 6 batch: 1200 loss: 0.00010432604176457971\n",
            "epoch: 6 batch: 1800 loss: 0.050679951906204224\n",
            "epoch: 6 batch: 2400 loss: 0.0007601379184052348\n",
            "epoch: 6 batch: 3000 loss: 0.0002392465976299718\n",
            "epoch: 6 batch: 3600 loss: 0.037305206060409546\n",
            "epoch: 6 batch: 4200 loss: 0.00031857905560173094\n",
            "epoch: 6 batch: 4800 loss: 0.014782746322453022\n",
            "epoch: 6 batch: 5400 loss: 0.008605358190834522\n",
            "epoch: 6 batch: 6000 loss: 0.2964697480201721\n",
            "epoch: 7 batch: 600 loss: 0.019823910668492317\n",
            "epoch: 7 batch: 1200 loss: 0.017163915559649467\n",
            "epoch: 7 batch: 1800 loss: 0.0001336304994765669\n",
            "epoch: 7 batch: 2400 loss: 2.9549326427513734e-05\n",
            "epoch: 7 batch: 3000 loss: 0.002077257726341486\n",
            "epoch: 7 batch: 3600 loss: 0.008285199292004108\n",
            "epoch: 7 batch: 4200 loss: 0.02705063857138157\n",
            "epoch: 7 batch: 4800 loss: 0.05819521099328995\n",
            "epoch: 7 batch: 5400 loss: 0.00685938959941268\n",
            "epoch: 7 batch: 6000 loss: 0.4121260643005371\n",
            "epoch: 8 batch: 600 loss: 0.0003196622710675001\n",
            "epoch: 8 batch: 1200 loss: 0.08770065754652023\n",
            "epoch: 8 batch: 1800 loss: 0.006386955268681049\n",
            "epoch: 8 batch: 2400 loss: 0.0029063455294817686\n",
            "epoch: 8 batch: 3000 loss: 0.0010685354936867952\n",
            "epoch: 8 batch: 3600 loss: 0.003922073170542717\n",
            "epoch: 8 batch: 4200 loss: 0.12239700555801392\n",
            "epoch: 8 batch: 4800 loss: 0.224812313914299\n",
            "epoch: 8 batch: 5400 loss: 0.009804298169910908\n",
            "epoch: 8 batch: 6000 loss: 0.000461948657175526\n",
            "epoch: 9 batch: 600 loss: 0.00989578664302826\n",
            "epoch: 9 batch: 1200 loss: 0.0021856259554624557\n",
            "epoch: 9 batch: 1800 loss: 0.20745041966438293\n",
            "epoch: 9 batch: 2400 loss: 0.0027127719949930906\n",
            "epoch: 9 batch: 3000 loss: 0.012150234542787075\n",
            "epoch: 9 batch: 3600 loss: 0.004826621152460575\n",
            "epoch: 9 batch: 4200 loss: 5.567021617025603e-06\n",
            "epoch: 9 batch: 4800 loss: 0.0023131975904107094\n",
            "epoch: 9 batch: 5400 loss: 0.0093228192999959\n",
            "epoch: 9 batch: 6000 loss: 0.0032784666400402784\n",
            "479.35598397254944\n"
          ]
        }
      ]
    },
    {
      "cell_type": "code",
      "source": [
        "#test\n",
        "with pt.no_grad():\n",
        "  total_tests = 0\n",
        "  total_correct = 0\n",
        "  for b, (X_test, Y_test) in enumerate(test_loader):\n",
        "    Y_pred = model(X_test)\n",
        "    predicted = pt.max(Y_pred.data,1)[1] #add up correct preds\n",
        "    total_correct = (predicted == Y_test).sum() #how many we got right\n",
        "    total_tests+=1\n",
        "\n",
        "loss = criterion(Y_pred, Y_test)\n",
        "test_losses.append(loss)\n",
        "print(total_tests, total_correct)\n"
      ],
      "metadata": {
        "colab": {
          "base_uri": "https://localhost:8080/"
        },
        "id": "dglGh2K5qVG6",
        "outputId": "ec87b59d-1613-4580-ebc8-6d951edc1c50"
      },
      "execution_count": 22,
      "outputs": [
        {
          "output_type": "stream",
          "name": "stdout",
          "text": [
            "1000 tensor(9)\n"
          ]
        }
      ]
    },
    {
      "cell_type": "code",
      "source": [
        "#graph results, loss at each iteration\n",
        "#train_losses = [t.item() for t in train_losses]\n",
        "plt.plot(train_losses, label='train loss')\n",
        "plt.legend()\n",
        "plt.xlabel('iterations')\n",
        "plt.ylabel('loss')"
      ],
      "metadata": {
        "colab": {
          "base_uri": "https://localhost:8080/",
          "height": 466
        },
        "id": "WU5au0tqvasX",
        "outputId": "fd850545-f409-43b8-8832-4ded9f8a0459"
      },
      "execution_count": 29,
      "outputs": [
        {
          "output_type": "execute_result",
          "data": {
            "text/plain": [
              "Text(0, 0.5, 'loss')"
            ]
          },
          "metadata": {},
          "execution_count": 29
        },
        {
          "output_type": "display_data",
          "data": {
            "text/plain": [
              "<Figure size 640x480 with 1 Axes>"
            ],
            "image/png": "[encoded data removed]"
          },
          "metadata": {}
        }
      ]
    },
    {
      "cell_type": "code",
      "source": [
        "#accuracy percentage\n",
        "plt.plot([t/600 for t in train_correct], label='train correct')\n",
        "plt.legend()\n",
        "plt.xlabel('iterations')\n",
        "plt.ylabel('correct')"
      ],
      "metadata": {
        "colab": {
          "base_uri": "https://localhost:8080/",
          "height": 466
        },
        "id": "fHOoByQCxaBU",
        "outputId": "1a2483b0-139b-4b22-c502-b3d7cc649a5e"
      },
      "execution_count": 31,
      "outputs": [
        {
          "output_type": "execute_result",
          "data": {
            "text/plain": [
              "Text(0, 0.5, 'correct')"
            ]
          },
          "metadata": {},
          "execution_count": 31
        },
        {
          "output_type": "display_data",
          "data": {
            "text/plain": [
              "<Figure size 640x480 with 1 Axes>"
            ],
            "image/png": "[encoded data removed]"
          },
          "metadata": {}
        }
      ]
    },
    {
      "cell_type": "code",
      "source": [
        "#have the cnn actually tell us what it is on random image\n",
        "import random\n",
        "n = random.randint(0,1000)\n",
        "test_data[n][0].reshape(28,28)\n",
        "plt.imshow(test_data[n][0].reshape(28,28))"
      ],
      "metadata": {
        "colab": {
          "base_uri": "https://localhost:8080/",
          "height": 447
        },
        "id": "yFMdeLSoyT9z",
        "outputId": "fb6a37f3-de6e-4dce-924d-9596787877ea"
      },
      "execution_count": 47,
      "outputs": [
        {
          "output_type": "execute_result",
          "data": {
            "text/plain": [
              "<matplotlib.image.AxesImage at 0x7fd597915780>"
            ]
          },
          "metadata": {},
          "execution_count": 47
        },
        {
          "output_type": "display_data",
          "data": {
            "text/plain": [
              "<Figure size 640x480 with 1 Axes>"
            ],
            "image/png": "[encoded data removed]"
          },
          "metadata": {}
        }
      ]
    },
    {
      "cell_type": "code",
      "source": [
        "#pass\n",
        "model.eval()#SETS IN EVAL MODE\n",
        "with pt.no_grad():\n",
        "  new_prediction = model(test_data[n][0].view(1,1,28,28))\n",
        "  print(pt.max(new_prediction.data,1)[1])"
      ],
      "metadata": {
        "colab": {
          "base_uri": "https://localhost:8080/"
        },
        "id": "DsIL2m1pzYNT",
        "outputId": "a54e9046-9400-45a5-9c68-ab92fcc00bf8"
      },
      "execution_count": 48,
      "outputs": [
        {
          "output_type": "stream",
          "name": "stdout",
          "text": [
            "tensor([3])\n"
          ]
        }
      ]
    },
    {
      "cell_type": "markdown",
      "source": [
        "# Results\n",
        "\n",
        "* Here you will see if the model was correct based on the number prediction\n",
        "* This model appears to be more than 98 percent accurate based on iterations and inputs\n",
        "* Will certainly improve with more epochs and changes to methods"
      ],
      "metadata": {
        "id": "qkkXqTUQ0Cqn"
      }
    }
  ]
}