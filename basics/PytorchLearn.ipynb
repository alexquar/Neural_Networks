{
  "nbformat": 4,
  "nbformat_minor": 0,
  "metadata": {
    "colab": {
      "provenance": [],
      "gpuType": "T4",
      "authorship_tag": "ABX9TyMPTRlkLxeml2PSpoKzAslD",
      "include_colab_link": true
    },
    "kernelspec": {
      "name": "python3",
      "display_name": "Python 3"
    },
    "language_info": {
      "name": "python"
    },
    "accelerator": "GPU"
  },
  "cells": [
    {
      "cell_type": "markdown",
      "metadata": {
        "id": "view-in-github",
        "colab_type": "text"
      },
      "source": [
        "<a href=\"https://colab.research.google.com/github/alexquar/Pytorch-Learning/blob/main/PytorchLearn.ipynb\" target=\"_parent\"><img src=\"https://colab.research.google.com/assets/colab-badge.svg\" alt=\"Open In Colab\"/></a>"
      ]
    },
    {
      "cell_type": "code",
      "source": [
        "import torch as pt\n",
        "import numpy as np"
      ],
      "metadata": {
        "id": "ubaTcwQqTJy-"
      },
      "execution_count": 3,
      "outputs": []
    },
    {
      "cell_type": "code",
      "source": [
        "#np arr\n",
        "np_list = np.random.rand(3,4)\n",
        "\n",
        "#tc tensor\n",
        "tensor = pt.rand(3,4)\n",
        "\n",
        "#np to pt\n",
        "nptotc = pt.tensor(np_list)\n",
        "\n",
        "mptotc"
      ],
      "metadata": {
        "colab": {
          "base_uri": "https://localhost:8080/"
        },
        "id": "N5liQ0YRWHHI",
        "outputId": "36fa59f5-3b3a-415d-c349-1d0e5da845f7"
      },
      "execution_count": 5,
      "outputs": [
        {
          "output_type": "execute_result",
          "data": {
            "text/plain": [
              "tensor([[0.4765, 0.4729, 0.0947, 0.3759],\n",
              "        [0.5636, 0.9917, 0.0999, 0.8173],\n",
              "        [0.1502, 0.3728, 0.6670, 0.7957]], dtype=torch.float64)"
            ]
          },
          "metadata": {},
          "execution_count": 5
        }
      ]
    }
  ]
}